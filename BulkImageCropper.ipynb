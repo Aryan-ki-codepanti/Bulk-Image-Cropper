{
 "cells": [
  {
   "cell_type": "code",
   "execution_count": 2,
   "metadata": {},
   "outputs": [],
   "source": [
    "from PIL import Image\n",
    "import os"
   ]
  },
  {
   "cell_type": "code",
   "execution_count": 9,
   "metadata": {},
   "outputs": [],
   "source": [
    "x = 664\n",
    "y = 390\n",
    "w = 590\n",
    "h = 412"
   ]
  },
  {
   "cell_type": "code",
   "execution_count": 20,
   "metadata": {},
   "outputs": [],
   "source": [
    "def process_img(folder):\n",
    "    os.mkdir(f\"{folder}_parsed\")\n",
    "    for i,fname in enumerate(os.listdir(folder)):\n",
    "        fname = f\"{folder}/{fname}\"\n",
    "        inp = Image.open(fname)\n",
    "        res = inp.crop((x,y,x + w, y + h))\n",
    "        res.save(f\"{folder}_parsed/{folder} - {i+1:02d}.png\")\n",
    "        print(f\"{folder}_parsed/{folder} - {i+1:02d}.png\")\n"
   ]
  }
 ],
 "metadata": {
  "kernelspec": {
   "display_name": "Python 3",
   "language": "python",
   "name": "python3"
  },
  "language_info": {
   "codemirror_mode": {
    "name": "ipython",
    "version": 3
   },
   "file_extension": ".py",
   "mimetype": "text/x-python",
   "name": "python",
   "nbconvert_exporter": "python",
   "pygments_lexer": "ipython3",
   "version": "3.11.3"
  }
 },
 "nbformat": 4,
 "nbformat_minor": 2
}
